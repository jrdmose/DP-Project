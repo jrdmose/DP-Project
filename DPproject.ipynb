{
 "cells": [
  {
   "cell_type": "code",
   "execution_count": 184,
   "metadata": {},
   "outputs": [],
   "source": [
    "import numpy as np\n",
    "import copy\n",
    "import math\n",
    "import scipy.linalg as la\n",
    "from scipy.optimize import minimize\n",
    "from scipy.optimize import Bounds\n",
    "from scipy.optimize import LinearConstraint"
   ]
  },
  {
   "cell_type": "markdown",
   "metadata": {},
   "source": [
    "First define all variables:"
   ]
  },
  {
   "cell_type": "code",
   "execution_count": 185,
   "metadata": {},
   "outputs": [],
   "source": [
    "# Setting size of the network\n",
    "j = 2 # number of junctions\n",
    "z = 3 # number of links per junction\n",
    "i = 2 # number of inflowing links per junction, has to be smaller than z\n",
    "o = 1 # number of outflow links\n",
    "\n",
    "# Inflowing links\n",
    "I = np.ones((j,z)) # placeholder for inflowing links matrix\n",
    "I[:,i:z] = 0 # set to zero for outflowing links per junction (assumes inflowing links have no outflowing traffic)\n",
    "\n",
    "# Outflowing links\n",
    "O = np.zeros((j,z)) # placeholder for inflowing links matrix\n",
    "O[:,z-o:o] = 1 # set to zero for outflowing links per junction (assumes inflowing links have no outflowing traffic)\n",
    "\n",
    "# Saturation flows\n",
    "S = np.ones((j,z)) # Saturation flow for each incoming link\n",
    "\n",
    "# Adjacency matrix\n",
    "N = np.zeros((j*z,j*z)) # placeholder for junction adjacency\n",
    "connections = [(z-1,z)] # only connection in this setup is from junction 1 link 3 to junction 2 link 1 (excluding vice versa)\n",
    "for each in connections:\n",
    "    N[each] = 1 # apply connections in adjacency matrix\n",
    "\n",
    "# Setting time frame of the network\n",
    "C = np.full((j),2) # cycle time\n",
    "L = np.full((j),0.5) # lost time\n",
    "T = 10 # control cycle\n",
    "\n",
    "# Setting stage numbers \n",
    "i_s = 2 # number of stages per inflowing link\n",
    "i_g = 1 # number of stages where inflowing link has right of way\n",
    "F = np.zeros((j,z,i_s)) # matrix of stages per link\n",
    "F[:,:,i_g] = 1 # setting green stages per link\n",
    "\n",
    "# Setting green times and turning rates\n",
    "G = np.ones((j,i)) # green time matrix\n",
    "Tu = np.ones((j,i,o)) # turning rate matrix\n",
    "for junction in range(j):\n",
    "    G[junction,:] = G[junction,:] * np.random.random((i)) # assign random green times at each junction's incoming links\n",
    "    Tu[junction,:] = Tu[junction,:] * np.random.random((i,o)) # assign a random turning rate to each junction's incoming/outflowing link combination\n",
    "    Tu[junction,:] = 1 / np.sum(Tu[junction,:]) * Tu[junction,:] # making sure total turning rates are not larger than 1\n",
    "Tu0 = np.ones(j) # turners who leave the system\n",
    "Tu0 = Tu0*0.5 # balance with inflow\n",
    "    \n",
    "# demand and exit flows per junction\n",
    "d = np.ones(j)*1.5 # steady-state demand flow: balances with turners who leave system"
   ]
  },
  {
   "cell_type": "markdown",
   "metadata": {},
   "source": [
    "Now define the system matrices"
   ]
  },
  {
   "cell_type": "code",
   "execution_count": 186,
   "metadata": {},
   "outputs": [],
   "source": [
    "# System matrices\n",
    "A1 = np.zeros(j) # initialise one A1 for each junction\n",
    "A2 = np.zeros(j) # initialise one A1 for each junction\n",
    "A3 = np.zeros(j) # initialise one A1 for each junction\n",
    "for junction in range(j):\n",
    "    A1[junction] = (1-Tu0[junction]) * (Tu[junction,0,0] * S[junction,0] / C[junction])\n",
    "    A2[junction] = (1-Tu0[junction]) * (Tu[junction,1,0] * S[junction,1] / C[junction])\n",
    "    A3[junction] = (1-Tu0[junction]) * (S[junction,2] / C[junction])\n",
    "    \n",
    "X = np.full((j*o),10)  # initialise number of vehicles per outflow link"
   ]
  },
  {
   "cell_type": "markdown",
   "metadata": {},
   "source": [
    "Introduce the dynamics"
   ]
  },
  {
   "cell_type": "code",
   "execution_count": 187,
   "metadata": {},
   "outputs": [],
   "source": [
    "# Dynamics\n",
    "X = X + T * (A1 * G[:,0] + A2 * G[:,1]  + A3 * np.array([G[0,0],1])) # when system is scaled up need to read third multiplier from adjacency matrix"
   ]
  },
  {
   "cell_type": "markdown",
   "metadata": {},
   "source": [
    "Questions pending: How do we calculate the steady state green rates?"
   ]
  },
  {
   "cell_type": "code",
   "execution_count": null,
   "metadata": {},
   "outputs": [],
   "source": []
  },
  {
   "cell_type": "markdown",
   "metadata": {},
   "source": [
    "Comments\n",
    "\n",
    "- G matrix should have 5 values? Exit green light?\n",
    "- Should we define times in sec?"
   ]
  },
  {
   "cell_type": "markdown",
   "metadata": {},
   "source": [
    "Solving Riccati equations"
   ]
  },
  {
   "cell_type": "code",
   "execution_count": 1,
   "metadata": {},
   "outputs": [
    {
     "ename": "NameError",
     "evalue": "name 'A1' is not defined",
     "output_type": "error",
     "traceback": [
      "\u001b[0;31m---------------------------------------------------------------------------\u001b[0m",
      "\u001b[0;31mNameError\u001b[0m                                 Traceback (most recent call last)",
      "\u001b[0;32m<ipython-input-1-ecf572712878>\u001b[0m in \u001b[0;36m<module>\u001b[0;34m\u001b[0m\n\u001b[1;32m      2\u001b[0m \u001b[0mA\u001b[0m \u001b[0;34m=\u001b[0m \u001b[0mnp\u001b[0m\u001b[0;34m.\u001b[0m\u001b[0midentity\u001b[0m\u001b[0;34m(\u001b[0m\u001b[0;36m2\u001b[0m\u001b[0;34m)\u001b[0m\u001b[0;34m\u001b[0m\u001b[0m\n\u001b[1;32m      3\u001b[0m \u001b[0;34m\u001b[0m\u001b[0m\n\u001b[0;32m----> 4\u001b[0;31m B = np.array([[A1[0], A2[0], A3[0]  ,0     ,  0    ],\n\u001b[0m\u001b[1;32m      5\u001b[0m               [0    , 0    , A1[1]  ,A2[1] ,  A3[1]]]) #check!!!!\n\u001b[1;32m      6\u001b[0m \u001b[0;34m\u001b[0m\u001b[0m\n",
      "\u001b[0;31mNameError\u001b[0m: name 'A1' is not defined"
     ]
    }
   ],
   "source": [
    "# Riccati matrices --> Have to be obtained from Seb's code\n",
    "A = np.identity(2)\n",
    "\n",
    "B = np.array([[A1[0], A2[0], A3[0]  ,0     ,  0    ],\n",
    "              [0    , 0    , A1[1]  ,A2[1] ,  A3[1]]]) #check!!!!\n",
    "\n",
    "Q = np.identity(2)/100\n",
    "R = np.identity(5)*1e-4\n",
    "\n",
    "aux = la.solve_discrete_are(A,B,Q,R) # Solving Riccati equations\n",
    "L_ric = la.inv(R + B.T.dot(aux).dot(B)) @ B.T.dot(aux).bdot(A) # Finding L\n",
    "\n",
    "delta_g = L_ric @ X.T "
   ]
  },
  {
   "cell_type": "code",
   "execution_count": 2,
   "metadata": {},
   "outputs": [
    {
     "ename": "NameError",
     "evalue": "name 'delta_g' is not defined",
     "output_type": "error",
     "traceback": [
      "\u001b[0;31m---------------------------------------------------------------------------\u001b[0m",
      "\u001b[0;31mNameError\u001b[0m                                 Traceback (most recent call last)",
      "\u001b[0;32m<ipython-input-2-55e324ae042b>\u001b[0m in \u001b[0;36m<module>\u001b[0;34m\u001b[0m\n\u001b[1;32m      1\u001b[0m \u001b[0mgn\u001b[0m \u001b[0;34m=\u001b[0m \u001b[0mnp\u001b[0m\u001b[0;34m.\u001b[0m\u001b[0mones\u001b[0m\u001b[0;34m(\u001b[0m\u001b[0;34m(\u001b[0m\u001b[0;36m5\u001b[0m\u001b[0;34m)\u001b[0m\u001b[0;34m)\u001b[0m\u001b[0;34m*\u001b[0m\u001b[0;36m10\u001b[0m\u001b[0;34m\u001b[0m\u001b[0m\n\u001b[0;32m----> 2\u001b[0;31m \u001b[0mg\u001b[0m \u001b[0;34m=\u001b[0m \u001b[0;34m(\u001b[0m\u001b[0mgn\u001b[0m \u001b[0;34m-\u001b[0m \u001b[0mdelta_g\u001b[0m\u001b[0;34m)\u001b[0m\u001b[0;34m\u001b[0m\u001b[0m\n\u001b[0m",
      "\u001b[0;31mNameError\u001b[0m: name 'delta_g' is not defined"
     ]
    }
   ],
   "source": [
    "gn = np.ones((5))*10\n",
    "g = (gn - delta_g)"
   ]
  },
  {
   "cell_type": "markdown",
   "metadata": {},
   "source": [
    "Solving taking into account signal constraints"
   ]
  },
  {
   "cell_type": "code",
   "execution_count": 3,
   "metadata": {},
   "outputs": [
    {
     "ename": "NameError",
     "evalue": "name 'minimize' is not defined",
     "output_type": "error",
     "traceback": [
      "\u001b[0;31m---------------------------------------------------------------------------\u001b[0m",
      "\u001b[0;31mNameError\u001b[0m                                 Traceback (most recent call last)",
      "\u001b[0;32m<ipython-input-3-21c652752ef4>\u001b[0m in \u001b[0;36m<module>\u001b[0;34m\u001b[0m\n\u001b[1;32m     22\u001b[0m \u001b[0mx0\u001b[0m \u001b[0;34m=\u001b[0m \u001b[0mnp\u001b[0m\u001b[0;34m.\u001b[0m\u001b[0marray\u001b[0m\u001b[0;34m(\u001b[0m\u001b[0;34m[\u001b[0m\u001b[0;36m1\u001b[0m\u001b[0;34m,\u001b[0m \u001b[0;36m1\u001b[0m\u001b[0;34m,\u001b[0m \u001b[0;36m1\u001b[0m\u001b[0;34m,\u001b[0m \u001b[0;36m1\u001b[0m\u001b[0;34m,\u001b[0m \u001b[0;36m1\u001b[0m\u001b[0;34m]\u001b[0m\u001b[0;34m)\u001b[0m \u001b[0;31m#initialization\u001b[0m\u001b[0;34m\u001b[0m\u001b[0m\n\u001b[1;32m     23\u001b[0m \u001b[0;34m\u001b[0m\u001b[0m\n\u001b[0;32m---> 24\u001b[0;31m minimize(greens, # function to be minimized\n\u001b[0m\u001b[1;32m     25\u001b[0m          \u001b[0mx0\u001b[0m\u001b[0;34m=\u001b[0m\u001b[0mx0\u001b[0m\u001b[0;34m,\u001b[0m \u001b[0;31m# init point\u001b[0m\u001b[0;34m\u001b[0m\u001b[0m\n\u001b[1;32m     26\u001b[0m          \u001b[0mmethod\u001b[0m\u001b[0;34m=\u001b[0m\u001b[0;34m'SLSQP'\u001b[0m\u001b[0;34m,\u001b[0m \u001b[0;31m# Sequential Least SQuares Programming method for minimizing\u001b[0m\u001b[0;34m\u001b[0m\u001b[0m\n",
      "\u001b[0;31mNameError\u001b[0m: name 'minimize' is not defined"
     ]
    }
   ],
   "source": [
    "# Function to be minimized f\n",
    "def greens(G):\n",
    "    return (np.sum((g-G)**2))\n",
    "\n",
    "# Gradient of f\n",
    "def greens_grad(G):\n",
    "    return (-2*(g-G))\n",
    "\n",
    "# Hessian of f\n",
    "def hess(G):\n",
    "    return (np.identity(5)*2)\n",
    "\n",
    "\n",
    "# Defining feasible times for green lights\n",
    "bounds = ((-1,1),(-1,1),(-1,1),(-1,1),(-1,1))\n",
    "\n",
    "# Constraint to make sure that all signals in a link stay within the cycle defined time.\n",
    "linear_constraint = ({'type': 'eq', 'fun': lambda x:  x[0] + x[1] + L[0] - C[0]}, # Link 1\n",
    "                     {'type': 'eq', 'fun': lambda x: x[2] + x[3] + L[1] - C[1]}, # Link 2\n",
    "                     {'type': 'eq', 'fun': lambda x: x[4] + 2}) # Exit link\n",
    "\n",
    "x0 = np.array([1, 1, 1, 1, 1]) #initialization\n",
    "\n",
    "minimize(greens, # function to be minimized\n",
    "         x0=x0, # init point\n",
    "         method='SLSQP', # Sequential Least SQuares Programming method for minimizing\n",
    "         jac = greens_grad, # Gradient of the function\n",
    "         hess = hess, # Hessian\n",
    "         constraints = linear_constraint, # Linear constraints\n",
    "         bounds = bounds) # Bounds"
   ]
  }
 ],
 "metadata": {
  "kernelspec": {
   "display_name": "Python 3",
   "language": "python",
   "name": "python3"
  },
  "language_info": {
   "codemirror_mode": {
    "name": "ipython",
    "version": 3
   },
   "file_extension": ".py",
   "mimetype": "text/x-python",
   "name": "python",
   "nbconvert_exporter": "python",
   "pygments_lexer": "ipython3",
   "version": "3.6.6"
  },
  "varInspector": {
   "cols": {
    "lenName": 16,
    "lenType": 16,
    "lenVar": 40
   },
   "kernels_config": {
    "python": {
     "delete_cmd_postfix": "",
     "delete_cmd_prefix": "del ",
     "library": "var_list.py",
     "varRefreshCmd": "print(var_dic_list())"
    },
    "r": {
     "delete_cmd_postfix": ") ",
     "delete_cmd_prefix": "rm(",
     "library": "var_list.r",
     "varRefreshCmd": "cat(var_dic_list()) "
    }
   },
   "position": {
    "height": "242px",
    "left": "1272px",
    "right": "23px",
    "top": "117px",
    "width": "385px"
   },
   "types_to_exclude": [
    "module",
    "function",
    "builtin_function_or_method",
    "instance",
    "_Feature"
   ],
   "window_display": false
  }
 },
 "nbformat": 4,
 "nbformat_minor": 2
}
